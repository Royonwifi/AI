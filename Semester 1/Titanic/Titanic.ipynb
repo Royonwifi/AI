{
 "cells": [
  {
   "cell_type": "code",
   "execution_count": 22,
   "id": "dad7cc17-9540-4dd6-81f2-6411c0141c69",
   "metadata": {
    "scrolled": true
   },
   "outputs": [
    {
     "name": "stdout",
     "output_type": "stream",
     "text": [
      "PassengerId                          7\n",
      "Survived                             0\n",
      "Pclass                               1\n",
      "Name           McCarthy, Mr. Timothy J\n",
      "Sex                               male\n",
      "Age                               54.0\n",
      "SibSp                                0\n",
      "Parch                                0\n",
      "Ticket                           17463\n",
      "Fare                           51.8625\n",
      "Cabin                              E46\n",
      "Embarked                             S\n",
      "Name: 6, dtype: object\n",
      "   PassengerId  Survived  Pclass                     Name   Sex   Age  SibSp  \\\n",
      "6            7         0       1  McCarthy, Mr. Timothy J  male  54.0      0   \n",
      "\n",
      "   Parch Ticket     Fare Cabin Embarked  \n",
      "6      0  17463  51.8625   E46        S  \n"
     ]
    }
   ],
   "source": [
    "import pandas as pd\n",
    "\n",
    "# Load the CSV file into a DataFrame\n",
    "df = pd.read_csv(\"titanic.csv\")\n",
    "\n",
    "# Get the 7th row (index 6 since Python is 0-based)\n",
    "seventh_sample = df.iloc[6]\n",
    "print(seventh_sample)\n",
    "\n",
    "# If you want it as a DataFrame instead of a Series:\n",
    "seventh_sample_df = df.iloc[[6]]\n",
    "print(seventh_sample_df)"
   ]
  },
  {
   "cell_type": "markdown",
   "id": "316bb22b-b204-4983-bf82-ee9fdcba3db6",
   "metadata": {},
   "source": [
    "# Assistant\n",
    "The error occurs because there's an unexpected indentation at the beginning of line 2. In Python, indentation is significant and used to define code blocks. Since this is the beginning of your script, there shouldn't be any indentation.\n",
    "\n",
    "Would you like me to provide the corrected code?"
   ]
  },
  {
   "cell_type": "code",
   "execution_count": 24,
   "id": "12362678-207c-48b2-b742-8368ed23936c",
   "metadata": {},
   "outputs": [
    {
     "data": {
      "text/html": [
       "<div>\n",
       "<style scoped>\n",
       "    .dataframe tbody tr th:only-of-type {\n",
       "        vertical-align: middle;\n",
       "    }\n",
       "\n",
       "    .dataframe tbody tr th {\n",
       "        vertical-align: top;\n",
       "    }\n",
       "\n",
       "    .dataframe thead th {\n",
       "        text-align: right;\n",
       "    }\n",
       "</style>\n",
       "<table border=\"1\" class=\"dataframe\">\n",
       "  <thead>\n",
       "    <tr style=\"text-align: right;\">\n",
       "      <th></th>\n",
       "      <th>PassengerId</th>\n",
       "      <th>Survived</th>\n",
       "      <th>Pclass</th>\n",
       "      <th>Name</th>\n",
       "      <th>Sex</th>\n",
       "      <th>Age</th>\n",
       "      <th>SibSp</th>\n",
       "      <th>Parch</th>\n",
       "      <th>Ticket</th>\n",
       "      <th>Fare</th>\n",
       "      <th>Cabin</th>\n",
       "      <th>Embarked</th>\n",
       "    </tr>\n",
       "  </thead>\n",
       "  <tbody>\n",
       "  </tbody>\n",
       "</table>\n",
       "</div>"
      ],
      "text/plain": [
       "Empty DataFrame\n",
       "Columns: [PassengerId, Survived, Pclass, Name, Sex, Age, SibSp, Parch, Ticket, Fare, Cabin, Embarked]\n",
       "Index: []"
      ]
     },
     "execution_count": 24,
     "metadata": {},
     "output_type": "execute_result"
    }
   ],
   "source": [
    "df[df[\"Survived\"] == \"Q\"]"
   ]
  },
  {
   "cell_type": "code",
   "execution_count": null,
   "id": "e4ca6b4f-99f5-4d7c-a8bd-55d06ac57ad8",
   "metadata": {},
   "outputs": [],
   "source": []
  }
 ],
 "metadata": {
  "kernelspec": {
   "display_name": "anaconda-ai-2024.04-py310",
   "language": "python",
   "name": "conda-env-anaconda-ai-2024.04-py310-py"
  },
  "language_info": {
   "codemirror_mode": {
    "name": "ipython",
    "version": 3
   },
   "file_extension": ".py",
   "mimetype": "text/x-python",
   "name": "python",
   "nbconvert_exporter": "python",
   "pygments_lexer": "ipython3",
   "version": "3.10.13"
  }
 },
 "nbformat": 4,
 "nbformat_minor": 5
}
