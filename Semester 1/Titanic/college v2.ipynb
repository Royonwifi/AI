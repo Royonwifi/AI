{
 "cells": [
  {
   "cell_type": "markdown",
   "id": "ec64e839-0316-41b8-a1b0-1faad2068f6e",
   "metadata": {},
   "source": [
    " What is the total amount of student debt that you will have to pay at the end of each year? You will have roughly around $3,000,000 with a standard deviation of above or below 98. This is because you will have to take out random expenses at the end of every month to find how much money you owe to the school on the things that you need."
   ]
  },
  {
   "cell_type": "code",
   "execution_count": 17,
   "id": "85e117ef-6b23-481c-afb4-7d77be05a0f8",
   "metadata": {},
   "outputs": [
    {
     "data": {
      "text/html": [
       "<div>\n",
       "<style scoped>\n",
       "    .dataframe tbody tr th:only-of-type {\n",
       "        vertical-align: middle;\n",
       "    }\n",
       "\n",
       "    .dataframe tbody tr th {\n",
       "        vertical-align: top;\n",
       "    }\n",
       "\n",
       "    .dataframe thead th {\n",
       "        text-align: right;\n",
       "    }\n",
       "</style>\n",
       "<table border=\"1\" class=\"dataframe\">\n",
       "  <thead>\n",
       "    <tr style=\"text-align: right;\">\n",
       "      <th></th>\n",
       "      <th>School</th>\n",
       "      <th>Tuition cost</th>\n",
       "      <th>Unnamed: 2</th>\n",
       "      <th>random costs</th>\n",
       "      <th>Cost</th>\n",
       "    </tr>\n",
       "  </thead>\n",
       "  <tbody>\n",
       "    <tr>\n",
       "      <th>0</th>\n",
       "      <td>CSU</td>\n",
       "      <td>12,896</td>\n",
       "      <td>NaN</td>\n",
       "      <td>Clothing</td>\n",
       "      <td>1,500</td>\n",
       "    </tr>\n",
       "    <tr>\n",
       "      <th>1</th>\n",
       "      <td>Metro State</td>\n",
       "      <td>10,780</td>\n",
       "      <td>NaN</td>\n",
       "      <td>Transportation</td>\n",
       "      <td>13,000</td>\n",
       "    </tr>\n",
       "    <tr>\n",
       "      <th>2</th>\n",
       "      <td>Colorado Mountain</td>\n",
       "      <td>5,100</td>\n",
       "      <td>NaN</td>\n",
       "      <td>Food</td>\n",
       "      <td>9,500</td>\n",
       "    </tr>\n",
       "    <tr>\n",
       "      <th>3</th>\n",
       "      <td>ACC</td>\n",
       "      <td>10119</td>\n",
       "      <td>NaN</td>\n",
       "      <td>Magic the Gathering</td>\n",
       "      <td>5,000</td>\n",
       "    </tr>\n",
       "  </tbody>\n",
       "</table>\n",
       "</div>"
      ],
      "text/plain": [
       "              School Tuition cost  Unnamed: 2        random costs     Cost\n",
       "0                CSU       12,896         NaN             Clothing   1,500\n",
       "1        Metro State       10,780         NaN       Transportation  13,000\n",
       "2  Colorado Mountain        5,100         NaN                 Food   9,500\n",
       "3                ACC        10119         NaN  Magic the Gathering   5,000"
      ]
     },
     "execution_count": 17,
     "metadata": {},
     "output_type": "execute_result"
    }
   ],
   "source": [
    "import pandas as pd\n",
    "import seaborn as sns\n",
    "\n",
    "file_path = \"/mnt/data/college v2.csv\"\n",
    "\n",
    "    # Display the first few rows to understand its contents\n",
    "df.head()\n",
    "\n",
    "for i in range(100):\n",
    "    # Load the CSV file to inspect its structure\n",
    "    pass\n",
    "    df = pd.read_csv(\"college v2.csv\")\n",
    "df.head()"
   ]
  },
  {
   "cell_type": "markdown",
   "id": "06944ada-a94d-42a4-967a-5363471f0760",
   "metadata": {},
   "source": []
  }
 ],
 "metadata": {
  "kernelspec": {
   "display_name": "anaconda-ai-2024.04-py310",
   "language": "python",
   "name": "conda-env-anaconda-ai-2024.04-py310-py"
  },
  "language_info": {
   "codemirror_mode": {
    "name": "ipython",
    "version": 3
   },
   "file_extension": ".py",
   "mimetype": "text/x-python",
   "name": "python",
   "nbconvert_exporter": "python",
   "pygments_lexer": "ipython3",
   "version": "3.10.13"
  }
 },
 "nbformat": 4,
 "nbformat_minor": 5
}
