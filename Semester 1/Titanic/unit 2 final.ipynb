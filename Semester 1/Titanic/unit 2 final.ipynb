{
 "cells": [
  {
   "cell_type": "markdown",
   "id": "09efdd69-baff-438c-8205-9aabb87c0892",
   "metadata": {},
   "source": [
    "When playing a game of Black Jack what is the probability that the player will win three games of black jack in a row. There will be a total of 500 games that get played."
   ]
  },
  {
   "cell_type": "markdown",
   "id": "4a1371fc-7fbb-4c05-9a5f-bd1b348c5aeb",
   "metadata": {},
   "source": [
    "The hope is that the Ai contrlled player will win three games of black jack against itself in uder 500 games. This simulation was created and run by me. Some of things that could happen during this simulation is the code stopping after it runs for too long. Another one is the simulation sometimes stops after it loses a game. It is imortaint to only count the triles that work 100% of the time."
   ]
  },
  {
   "cell_type": "markdown",
   "id": "f1f83144-5943-4752-904b-f3cc6a8f832d",
   "metadata": {},
   "source": [
    "After the computer played 500 games against itself it has a 0.62% chance of winning a game. A game gets won every 8 rounds or so and there are 52 cards in a deck. "
   ]
  },
  {
   "cell_type": "code",
   "execution_count": 1,
   "id": "e04df0d2-da6d-4e08-9197-239ac2c9d4a0",
   "metadata": {},
   "outputs": [
    {
     "name": "stdout",
     "output_type": "stream",
     "text": [
      "Collecting gymnasium\n",
      "  Downloading gymnasium-1.2.1-py3-none-any.whl.metadata (10.0 kB)\n",
      "Requirement already satisfied: numpy>=1.21.0 in c:\\users\\garciniegas\\appdata\\local\\anaconda3\\lib\\site-packages (from gymnasium) (2.1.3)\n",
      "Requirement already satisfied: cloudpickle>=1.2.0 in c:\\users\\garciniegas\\appdata\\local\\anaconda3\\lib\\site-packages (from gymnasium) (3.0.0)\n",
      "Requirement already satisfied: typing-extensions>=4.3.0 in c:\\users\\garciniegas\\appdata\\local\\anaconda3\\lib\\site-packages (from gymnasium) (4.12.2)\n",
      "Collecting farama-notifications>=0.0.1 (from gymnasium)\n",
      "  Downloading Farama_Notifications-0.0.4-py3-none-any.whl.metadata (558 bytes)\n",
      "Downloading gymnasium-1.2.1-py3-none-any.whl (951 kB)\n",
      "   ---------------------------------------- 0.0/951.1 kB ? eta -:--:--\n",
      "   ---------------------------------------- 951.1/951.1 kB 9.9 MB/s eta 0:00:00\n",
      "Downloading Farama_Notifications-0.0.4-py3-none-any.whl (2.5 kB)\n",
      "Installing collected packages: farama-notifications, gymnasium\n",
      "\n",
      "   -------------------- ------------------- 1/2 [gymnasium]\n",
      "   -------------------- ------------------- 1/2 [gymnasium]\n",
      "   -------------------- ------------------- 1/2 [gymnasium]\n",
      "   -------------------- ------------------- 1/2 [gymnasium]\n",
      "   -------------------- ------------------- 1/2 [gymnasium]\n",
      "   -------------------- ------------------- 1/2 [gymnasium]\n",
      "   -------------------- ------------------- 1/2 [gymnasium]\n",
      "   ---------------------------------------- 2/2 [gymnasium]\n",
      "\n",
      "Successfully installed farama-notifications-0.0.4 gymnasium-1.2.1\n",
      "^C\n",
      "Requirement already satisfied: gymnasium[atari] in c:\\users\\garciniegas\\appdata\\local\\anaconda3\\lib\\site-packages (1.2.1)\n",
      "Requirement already satisfied: numpy>=1.21.0 in c:\\users\\garciniegas\\appdata\\local\\anaconda3\\lib\\site-packages (from gymnasium[atari]) (2.1.3)\n",
      "Requirement already satisfied: cloudpickle>=1.2.0 in c:\\users\\garciniegas\\appdata\\local\\anaconda3\\lib\\site-packages (from gymnasium[atari]) (3.0.0)\n",
      "Requirement already satisfied: typing-extensions>=4.3.0 in c:\\users\\garciniegas\\appdata\\local\\anaconda3\\lib\\site-packages (from gymnasium[atari]) (4.12.2)\n",
      "Requirement already satisfied: farama-notifications>=0.0.1 in c:\\users\\garciniegas\\appdata\\local\\anaconda3\\lib\\site-packages (from gymnasium[atari]) (0.0.4)\n",
      "Collecting ale_py>=0.9 (from gymnasium[atari])\n",
      "  Downloading ale_py-0.11.2-cp313-cp313-win_amd64.whl.metadata (9.2 kB)\n",
      "Downloading ale_py-0.11.2-cp313-cp313-win_amd64.whl (3.5 MB)\n",
      "   ---------------------------------------- 0.0/3.5 MB ? eta -:--:--\n",
      "   ---------------------------------------- 3.5/3.5 MB 23.8 MB/s eta 0:00:00\n",
      "Installing collected packages: ale_py\n",
      "Successfully installed ale_py-0.11.2\n",
      "Requirement already satisfied: ale-py in c:\\users\\garciniegas\\appdata\\local\\anaconda3\\lib\\site-packages (0.11.2)\n",
      "Requirement already satisfied: numpy>1.20 in c:\\users\\garciniegas\\appdata\\local\\anaconda3\\lib\\site-packages (from ale-py) (2.1.3)\n"
     ]
    },
    {
     "name": "stderr",
     "output_type": "stream",
     "text": [
      "WARNING: autorom 0.6.1 does not provide the extra 'accept-romlicense'\n"
     ]
    },
    {
     "name": "stdout",
     "output_type": "stream",
     "text": [
      "Collecting autorom[accept-romlicense]\n",
      "  Downloading AutoROM-0.6.1-py3-none-any.whl.metadata (2.4 kB)\n",
      "Requirement already satisfied: click in c:\\users\\garciniegas\\appdata\\local\\anaconda3\\lib\\site-packages (from autorom[accept-romlicense]) (8.1.8)\n",
      "Requirement already satisfied: requests in c:\\users\\garciniegas\\appdata\\local\\anaconda3\\lib\\site-packages (from autorom[accept-romlicense]) (2.32.3)\n",
      "Requirement already satisfied: colorama in c:\\users\\garciniegas\\appdata\\local\\anaconda3\\lib\\site-packages (from click->autorom[accept-romlicense]) (0.4.6)\n",
      "Requirement already satisfied: charset-normalizer<4,>=2 in c:\\users\\garciniegas\\appdata\\local\\anaconda3\\lib\\site-packages (from requests->autorom[accept-romlicense]) (3.3.2)\n",
      "Requirement already satisfied: idna<4,>=2.5 in c:\\users\\garciniegas\\appdata\\local\\anaconda3\\lib\\site-packages (from requests->autorom[accept-romlicense]) (3.7)\n",
      "Requirement already satisfied: urllib3<3,>=1.21.1 in c:\\users\\garciniegas\\appdata\\local\\anaconda3\\lib\\site-packages (from requests->autorom[accept-romlicense]) (2.3.0)\n",
      "Requirement already satisfied: certifi>=2017.4.17 in c:\\users\\garciniegas\\appdata\\local\\anaconda3\\lib\\site-packages (from requests->autorom[accept-romlicense]) (2025.4.26)\n",
      "Downloading AutoROM-0.6.1-py3-none-any.whl (9.4 kB)\n",
      "Installing collected packages: autorom\n",
      "Successfully installed autorom-0.6.1\n"
     ]
    }
   ],
   "source": [
    "!pip install gymnasium\n",
    "!pip install \"gymnasium[atari]\"\n",
    "!pip install ale-py\n",
    "!pip install autorom[accept-romlicense]"
   ]
  },
  {
   "cell_type": "code",
   "execution_count": 13,
   "id": "d85f14cf-dc32-4a58-b718-badca86b504e",
   "metadata": {},
   "outputs": [
    {
     "name": "stdout",
     "output_type": "stream",
     "text": [
      "🎉 Player WON in episode 1 with reward 10!\n",
      "Simulation complete.\n"
     ]
    }
   ],
   "source": [
    "import ale_py\n",
    "import gymnasium as gym\n",
    "\n",
    "# Register ALE environments\n",
    "gym.register_envs(ale_py)\n",
    "\n",
    "# Create environment (no rendering for max speed)\n",
    "env = gym.make('ALE/Blackjack-v5')\n",
    "\n",
    "player_won = False\n",
    "episode = 0\n",
    "steps_per_episode = 500  # just a safety cap\n",
    "\n",
    "while not player_won:\n",
    "    episode += 1\n",
    "    total_reward = 0\n",
    "    observation, info = env.reset()\n",
    "\n",
    "    for step in range(steps_per_episode):\n",
    "        # Random action (0 or 1)\n",
    "        action = env.action_space.sample()\n",
    "        observation, reward, terminated, truncated, info = env.step(action)\n",
    "        total_reward += reward\n",
    "\n",
    "        if terminated or truncated:\n",
    "            break\n",
    "\n",
    "    if total_reward > 0:\n",
    "        player_won = True\n",
    "        print(f\"🎉 Player WON in episode {episode} with reward {total_reward:.0f}!\")\n",
    "    else:\n",
    "        # Optional: comment this line out for absolute max speed\n",
    "        print(f\"Episode {episode} ended with total reward {total_reward:.0f}\")\n",
    "\n",
    "env.close()\n",
    "print(\"Simulation complete.\")\n"
   ]
  },
  {
   "cell_type": "code",
   "execution_count": null,
   "id": "81a61c95-40eb-4272-a5fe-f5dfdf88237f",
   "metadata": {},
   "outputs": [],
   "source": []
  }
 ],
 "metadata": {
  "kernelspec": {
   "display_name": "Python 3 (ipykernel)",
   "language": "python",
   "name": "python3"
  },
  "language_info": {
   "codemirror_mode": {
    "name": "ipython",
    "version": 3
   },
   "file_extension": ".py",
   "mimetype": "text/x-python",
   "name": "python",
   "nbconvert_exporter": "python",
   "pygments_lexer": "ipython3",
   "version": "3.13.5"
  }
 },
 "nbformat": 4,
 "nbformat_minor": 5
}
