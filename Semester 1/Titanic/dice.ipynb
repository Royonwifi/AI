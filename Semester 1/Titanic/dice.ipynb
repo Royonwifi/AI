{
 "cells": [
  {
   "cell_type": "code",
   "execution_count": 25,
   "id": "63a7063a-084d-4eb6-876e-2aee7c860856",
   "metadata": {},
   "outputs": [
    {
     "name": "stdout",
     "output_type": "stream",
     "text": [
      "First 10 simulated rolls:\n",
      "    die1  die2  sum\n",
      "0      3     1    4\n",
      "1      3     3    6\n",
      "2      1     5    6\n",
      "3      1     5    6\n",
      "4      5     1    6\n",
      "..   ...   ...  ...\n",
      "95     5     5   10\n",
      "96     4     2    6\n",
      "97     1     5    6\n",
      "98     1     3    4\n",
      "99     1     4    5\n",
      "\n",
      "[100 rows x 3 columns]\n"
     ]
    }
   ],
   "source": [
    "import pandas as pd\n",
    "import numpy as np\n",
    "\n",
    "# Number of rolls to simulate\n",
    "num_rolls = 100\n",
    "\n",
    "# Simulate two six-sided dice rolls\n",
    "die1 = np.random.randint(1, 6, num_rolls)\n",
    "die2 = np.random.randint(1, 6, num_rolls)\n",
    "\n",
    "# Calculate the sum of the two dice\n",
    "sums = die1 + die2\n",
    "\n",
    "# Create a pandas DataFrame\n",
    "df = pd.DataFrame({'die1': die1, 'die2': die2, 'sum': sums})\n",
    "\n",
    "print(\"First 10 simulated rolls:\")\n",
    "print(df.head(100))"
   ]
  }
 ],
 "metadata": {
  "kernelspec": {
   "display_name": "anaconda-ai-2024.04-py310",
   "language": "python",
   "name": "conda-env-anaconda-ai-2024.04-py310-py"
  },
  "language_info": {
   "codemirror_mode": {
    "name": "ipython",
    "version": 3
   },
   "file_extension": ".py",
   "mimetype": "text/x-python",
   "name": "python",
   "nbconvert_exporter": "python",
   "pygments_lexer": "ipython3",
   "version": "3.10.13"
  }
 },
 "nbformat": 4,
 "nbformat_minor": 5
}
