{
 "cells": [
  {
   "cell_type": "markdown",
   "id": "3fb8b033-3da7-4f24-9983-e25162624cee",
   "metadata": {},
   "source": [
    "What is the probability that I will draw a basic land from the deck on the first turn? This is an observational study that will see what the chance of getting the desired outcome with the land cards in MTG. This is a very luck based game."
   ]
  },
  {
   "cell_type": "code",
   "execution_count": 2,
   "id": "dbc2d0bc-7044-43ec-822d-5b15d6e5b12c",
   "metadata": {},
   "outputs": [
    {
     "name": "stdout",
     "output_type": "stream",
     "text": [
      "                        NonLand                   Land\n",
      "0        Ulalek, Fused Atrocity                 Wastes\n",
      "1  Azlask, the Swelling Scourge  Talisman of Curiosity\n",
      "2            Ulamog's Dreadsire    Talisman of Impulse\n",
      "3               Benthic Anomaly           Warping Wail\n",
      "4             Eldritch Immunity  Talisman of Dominance\n"
     ]
    }
   ],
   "source": [
    "import pandas as pd\n",
    "import seaborn as sns\n",
    "import random\n",
    "\n",
    "# Read a CSV file named 'data.csv' into a DataFrame\n",
    "df = pd.read_csv('eldrazi incursion.csv')\n",
    "# Display the first few rows of the DataFrame\n",
    "print(df.head())"
   ]
  },
  {
   "cell_type": "code",
   "execution_count": 1,
   "id": "6337f699-65d8-46a1-9b38-0a61d2ea0187",
   "metadata": {},
   "outputs": [
    {
     "data": {
      "text/html": [
       "<div>\n",
       "<style scoped>\n",
       "    .dataframe tbody tr th:only-of-type {\n",
       "        vertical-align: middle;\n",
       "    }\n",
       "\n",
       "    .dataframe tbody tr th {\n",
       "        vertical-align: top;\n",
       "    }\n",
       "\n",
       "    .dataframe thead th {\n",
       "        text-align: right;\n",
       "    }\n",
       "</style>\n",
       "<table border=\"1\" class=\"dataframe\">\n",
       "  <thead>\n",
       "    <tr style=\"text-align: right;\">\n",
       "      <th></th>\n",
       "      <th>Drawn_Item</th>\n",
       "    </tr>\n",
       "  </thead>\n",
       "  <tbody>\n",
       "    <tr>\n",
       "      <th>0</th>\n",
       "      <td>NonLand</td>\n",
       "    </tr>\n",
       "    <tr>\n",
       "      <th>1</th>\n",
       "      <td>Artisan of Kozilek</td>\n",
       "    </tr>\n",
       "    <tr>\n",
       "      <th>2</th>\n",
       "      <td>NonLand</td>\n",
       "    </tr>\n",
       "    <tr>\n",
       "      <th>3</th>\n",
       "      <td>Land</td>\n",
       "    </tr>\n",
       "    <tr>\n",
       "      <th>4</th>\n",
       "      <td>NonLand</td>\n",
       "    </tr>\n",
       "    <tr>\n",
       "      <th>5</th>\n",
       "      <td>Land</td>\n",
       "    </tr>\n",
       "    <tr>\n",
       "      <th>6</th>\n",
       "      <td>Karplusan Forest</td>\n",
       "    </tr>\n",
       "  </tbody>\n",
       "</table>\n",
       "</div>"
      ],
      "text/plain": [
       "           Drawn_Item\n",
       "0             NonLand\n",
       "1  Artisan of Kozilek\n",
       "2             NonLand\n",
       "3                Land\n",
       "4             NonLand\n",
       "5                Land\n",
       "6    Karplusan Forest"
      ]
     },
     "execution_count": 1,
     "metadata": {},
     "output_type": "execute_result"
    }
   ],
   "source": [
    "import random\n",
    "import pandas as pd\n",
    "import seaborn as sns\n",
    "\n",
    "# Combine all values from NonLand and Land into one list, drop NaN\n",
    "\n",
    "# Read a CSV file named 'data.csv' into a DataFrame\n",
    "df = pd.read_csv('eldrazi incursion.csv')\n",
    "\n",
    "items = pd.concat([df['Card'], df['Type']]).dropna().tolist()\n",
    "# Randomly draw 7 unique items\n",
    "drawn_items = random.sample(items, 7)\n",
    "\n",
    "# Create a dataframe of the drawn items\n",
    "drawn_df = pd.DataFrame(drawn_items, columns=[\"Drawn_Item\"])\n",
    "\n",
    "drawn_df"
   ]
  }
 ],
 "metadata": {
  "kernelspec": {
   "display_name": "anaconda-ai-2024.04-py310",
   "language": "python",
   "name": "conda-env-anaconda-ai-2024.04-py310-py"
  },
  "language_info": {
   "codemirror_mode": {
    "name": "ipython",
    "version": 3
   },
   "file_extension": ".py",
   "mimetype": "text/x-python",
   "name": "python",
   "nbconvert_exporter": "python",
   "pygments_lexer": "ipython3",
   "version": "3.10.13"
  }
 },
 "nbformat": 4,
 "nbformat_minor": 5
}
