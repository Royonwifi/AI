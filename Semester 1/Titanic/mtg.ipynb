{
 "cells": [
  {
   "cell_type": "markdown",
   "id": "3fb8b033-3da7-4f24-9983-e25162624cee",
   "metadata": {},
   "source": [
    "Given the fact that there 100 cards in a mtg commander deck, what is the chance that you will draw a dual land in the first draw? There are 30-40 land in a mtg commander deck in total. We can assume that there are 10-20 dual land in a standard commander deck. This is an observational study that will see what the chance of getting the desired outcome with the land cards in MTG. This is a very luck based game. "
   ]
  },
  {
   "cell_type": "markdown",
   "id": "c80b8cfe-7cc9-498a-bb96-34013c931f97",
   "metadata": {},
   "source": [
    "The sample for this study is how long it takes to draw a dual land card from the simulated mtg deck in pandas."
   ]
  },
  {
   "cell_type": "markdown",
   "id": "8fb8d3b1-e8ff-4b65-a2d2-e76154623f75",
   "metadata": {},
   "source": [
    "There is a 4/100 chance to draw a dual land in the first hand."
   ]
  },
  {
   "cell_type": "code",
   "execution_count": 24,
   "id": "6337f699-65d8-46a1-9b38-0a61d2ea0187",
   "metadata": {},
   "outputs": [
    {
     "data": {
      "text/html": [
       "<div>\n",
       "<style scoped>\n",
       "    .dataframe tbody tr th:only-of-type {\n",
       "        vertical-align: middle;\n",
       "    }\n",
       "\n",
       "    .dataframe tbody tr th {\n",
       "        vertical-align: top;\n",
       "    }\n",
       "\n",
       "    .dataframe thead th {\n",
       "        text-align: right;\n",
       "    }\n",
       "</style>\n",
       "<table border=\"1\" class=\"dataframe\">\n",
       "  <thead>\n",
       "    <tr style=\"text-align: right;\">\n",
       "      <th></th>\n",
       "      <th>Card</th>\n",
       "      <th>Type</th>\n",
       "    </tr>\n",
       "  </thead>\n",
       "  <tbody>\n",
       "    <tr>\n",
       "      <th>86</th>\n",
       "      <td>Talisman of Dominance</td>\n",
       "      <td>Land</td>\n",
       "    </tr>\n",
       "    <tr>\n",
       "      <th>58</th>\n",
       "      <td>Forsaken Monument</td>\n",
       "      <td>NonLand</td>\n",
       "    </tr>\n",
       "    <tr>\n",
       "      <th>50</th>\n",
       "      <td>Mystic Forge</td>\n",
       "      <td>NonLand</td>\n",
       "    </tr>\n",
       "    <tr>\n",
       "      <th>14</th>\n",
       "      <td>Inversion Behemoth</td>\n",
       "      <td>NonLand</td>\n",
       "    </tr>\n",
       "    <tr>\n",
       "      <th>85</th>\n",
       "      <td>Warping Wail</td>\n",
       "      <td>DualLand</td>\n",
       "    </tr>\n",
       "    <tr>\n",
       "      <th>76</th>\n",
       "      <td>Opal Palace</td>\n",
       "      <td>NonLand</td>\n",
       "    </tr>\n",
       "    <tr>\n",
       "      <th>77</th>\n",
       "      <td>Dreamstone Hedron</td>\n",
       "      <td>NonLand</td>\n",
       "    </tr>\n",
       "  </tbody>\n",
       "</table>\n",
       "</div>"
      ],
      "text/plain": [
       "                     Card      Type\n",
       "86  Talisman of Dominance      Land\n",
       "58      Forsaken Monument   NonLand\n",
       "50           Mystic Forge   NonLand\n",
       "14     Inversion Behemoth   NonLand\n",
       "85           Warping Wail  DualLand\n",
       "76            Opal Palace   NonLand\n",
       "77      Dreamstone Hedron   NonLand"
      ]
     },
     "execution_count": 24,
     "metadata": {},
     "output_type": "execute_result"
    }
   ],
   "source": [
    "import random\n",
    "import pandas as pd\n",
    "import seaborn as sns\n",
    "\n",
    "# Combine all values from NonLand and Land into one list, drop NaN\n",
    "\n",
    "# Read a CSV file named 'data.csv' into a DataFrame\n",
    "df = pd.read_csv('eldrazi.csv')\n",
    "\n",
    "drawn_items = df.sample(n=7)\n",
    "\n",
    "# Create a dataframe of the drawn items\n",
    "# drawn_df = pd.DataFrame(drawn_items, columns=[\"Drawn_Item\"])\n",
    "\n",
    "# drawn_df\n",
    "drawn_items"
   ]
  }
 ],
 "metadata": {
  "kernelspec": {
   "display_name": "anaconda-ai-2024.04-py310",
   "language": "python",
   "name": "conda-env-anaconda-ai-2024.04-py310-py"
  },
  "language_info": {
   "codemirror_mode": {
    "name": "ipython",
    "version": 3
   },
   "file_extension": ".py",
   "mimetype": "text/x-python",
   "name": "python",
   "nbconvert_exporter": "python",
   "pygments_lexer": "ipython3",
   "version": "3.10.13"
  }
 },
 "nbformat": 4,
 "nbformat_minor": 5
}
